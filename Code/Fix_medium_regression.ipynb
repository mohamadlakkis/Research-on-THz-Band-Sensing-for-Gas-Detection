{
  "cells": [
    {
      "cell_type": "markdown",
      "id": "c45b10ab",
      "metadata": {},
      "source": [
        "Importing Libraries "
      ]
    },
    {
      "cell_type": "code",
      "execution_count": 7,
      "id": "f074ffa1",
      "metadata": {
        "id": "f074ffa1"
      },
      "outputs": [],
      "source": [
        "import numpy as np\n",
        "import scipy.io\n",
        "from sklearn.model_selection import train_test_split\n",
        "from sklearn.preprocessing import StandardScaler\n",
        "from matplotlib import pyplot as plt\n",
        "from argparse import Namespace\n",
        "from sklearn.linear_model import LogisticRegression\n",
        "from sklearn.manifold import TSNE\n",
        "from sklearn.decomposition import PCA\n",
        "from sklearn.metrics import accuracy_score\n",
        "from sklearn.discriminant_analysis import QuadraticDiscriminantAnalysis\n",
        "from sklearn.linear_model import LinearRegression\n",
        "from sklearn.metrics import mean_squared_error\n",
        "from sklearn.neighbors import KNeighborsRegressor\n",
        "\n",
        "\n",
        "DATA_DIR = \"fixed_medium_data/data33.mat\"\n",
        "MAGNITUDE = True\n",
        "SEED = 0"
      ]
    },
    {
      "cell_type": "markdown",
      "id": "9bfd8a93",
      "metadata": {
        "id": "9bfd8a93"
      },
      "source": [
        "Loading data"
      ]
    },
    {
      "cell_type": "code",
      "execution_count": 8,
      "id": "3e05d703",
      "metadata": {
        "id": "3e05d703"
      },
      "outputs": [],
      "source": [
        "def load_data(data_dir, return_mag=True):\n",
        "    data = scipy.io.loadmat(data_dir)\n",
        "    d, t,r = data['data'], data['target'],data['gases_ratios']\n",
        "    r = r[:, -1].reshape(-1, 1) # taking only the last columns \n",
        "    if return_mag:\n",
        "        d = np.abs(d)\n",
        "    else:\n",
        "        dreal = np.real(d)\n",
        "        dimg = np.imag(d)\n",
        "        d = np.concatenate([dreal, dimg], axis=1)\n",
        "    return d.astype(np.float32), t.astype(np.float32),r.astype(np.float32)\n",
        "features, labels,ratios = load_data(DATA_DIR, MAGNITUDE)"
      ]
    },
    {
      "cell_type": "markdown",
      "id": "39473bab",
      "metadata": {},
      "source": [
        "Splitting the Data for regression"
      ]
    },
    {
      "cell_type": "code",
      "execution_count": 9,
      "id": "6cb8f3a5",
      "metadata": {
        "colab": {
          "base_uri": "https://localhost:8080/"
        },
        "id": "6cb8f3a5",
        "outputId": "f12788b5-b11c-41d9-e523-0508fba13d54"
      },
      "outputs": [],
      "source": [
        "X_train, X_test, y_train, y_test = train_test_split(features, ratios) "
      ]
    },
    {
      "cell_type": "markdown",
      "id": "4b860205",
      "metadata": {},
      "source": [
        "Scaling"
      ]
    },
    {
      "cell_type": "code",
      "execution_count": 10,
      "id": "d8b5a21a",
      "metadata": {
        "id": "d8b5a21a"
      },
      "outputs": [],
      "source": [
        "scaler = StandardScaler() \n",
        "X_train_sc = scaler.fit_transform(X_train)\n",
        "X_test_sc = scaler.transform(X_test)"
      ]
    },
    {
      "cell_type": "markdown",
      "id": "c57f5f66",
      "metadata": {},
      "source": [
        "## Regression: Predicting the concentration of 02, in the medium!"
      ]
    },
    {
      "cell_type": "markdown",
      "id": "98135d87",
      "metadata": {},
      "source": [
        "Using OLS ( Linear Regression )"
      ]
    },
    {
      "cell_type": "code",
      "execution_count": 11,
      "id": "b5db738c",
      "metadata": {},
      "outputs": [
        {
          "name": "stdout",
          "output_type": "stream",
          "text": [
            "train accuracy: 1.000, test accuracy 1.000\n"
          ]
        }
      ],
      "source": [
        "Linear = LinearRegression()\n",
        "Linear.fit(X_train_sc, y_train.squeeze())  #add squeeze to make it a 1d array\n",
        "acc_train_Linear = 1-mean_squared_error(y_train.squeeze(), Linear.predict(X_train_sc))\n",
        "acc_test_Linear = 1-mean_squared_error(y_test.squeeze(), Linear.predict(X_test_sc))\n",
        "print(f\"train accuracy: {acc_train_Linear:.3f}, test accuracy {acc_test_Linear:.3f}\")"
      ]
    },
    {
      "cell_type": "markdown",
      "id": "25479269",
      "metadata": {},
      "source": [
        "Using a KNN MODEL"
      ]
    },
    {
      "cell_type": "code",
      "execution_count": 12,
      "id": "54b6f97a",
      "metadata": {},
      "outputs": [
        {
          "name": "stdout",
          "output_type": "stream",
          "text": [
            "train accuracy: 1.000, test accuracy 1.000\n"
          ]
        }
      ],
      "source": [
        "KNN = KNeighborsRegressor(n_neighbors=7)\n",
        "KNN.fit(X_train, y_train.squeeze())  #add squeeze to make it a 1d array\n",
        "KNN_acc_train = 1-mean_squared_error(y_train.squeeze(), KNN.predict(X_train))\n",
        "KNN_acc_test = 1-mean_squared_error(y_test.squeeze(), KNN.predict(X_test))\n",
        "print(f\"train accuracy: {KNN_acc_train:.3f}, test accuracy {KNN_acc_test:.3f}\")"
      ]
    }
  ],
  "metadata": {
    "colab": {
      "provenance": [],
      "toc_visible": true
    },
    "kernelspec": {
      "display_name": "Python 3 (ipykernel)",
      "language": "python",
      "name": "python3"
    },
    "language_info": {
      "codemirror_mode": {
        "name": "ipython",
        "version": 3
      },
      "file_extension": ".py",
      "mimetype": "text/x-python",
      "name": "python",
      "nbconvert_exporter": "python",
      "pygments_lexer": "ipython3",
      "version": "3.11.5"
    },
    "toc": {
      "base_numbering": 1,
      "nav_menu": {},
      "number_sections": true,
      "sideBar": true,
      "skip_h1_title": false,
      "title_cell": "Table of Contents",
      "title_sidebar": "Contents",
      "toc_cell": false,
      "toc_position": {},
      "toc_section_display": true,
      "toc_window_display": false
    }
  },
  "nbformat": 4,
  "nbformat_minor": 5
}
