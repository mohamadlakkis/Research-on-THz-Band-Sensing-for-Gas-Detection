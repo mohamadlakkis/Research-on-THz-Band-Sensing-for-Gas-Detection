{
 "cells": [
  {
   "cell_type": "code",
   "execution_count": 1,
   "metadata": {},
   "outputs": [],
   "source": [
    "from scipy.io import loadmat\n",
    "import numpy as np\n",
    "import torch \n",
    "import torch.nn as nn\n",
    "import torch.optim as optim\n",
    "from torchsummary import summary\n",
    "from torch.utils.data import DataLoader, TensorDataset\n",
    "from sklearn.model_selection import train_test_split\n",
    "import wandb\n",
    "from torch.optim.lr_scheduler import ReduceLROnPlateau"
   ]
  },
  {
   "cell_type": "markdown",
   "metadata": {},
   "source": [
    "### Gettig Y in the correct Format !"
   ]
  },
  {
   "cell_type": "code",
   "execution_count": null,
   "metadata": {},
   "outputs": [
    {
     "name": "stdout",
     "output_type": "stream",
     "text": [
      "the shape of Y = (160000, 40)\n",
      "the shape of r_q_all = (160000,)\n"
     ]
    }
   ],
   "source": [
    "Y_mat_location = r'/home/mnl/Desktop/University/Fall 2024-2025/VIPP/CODES/Python-MATLAB/MiMo/Matlab_Data/Y_1.mat'\n",
    "r_q_all_location = r'/home/mnl/Desktop/University/Fall 2024-2025/VIPP/CODES/Python-MATLAB/MiMo/Matlab_Data/r_q_all_1.mat'\n",
    "Y = loadmat(Y_mat_location)  \n",
    "Y = Y['Y']\n",
    "Y = np.transpose(Y,(2,0,1))\n",
    "dimension = 10000\n",
    "# now the shape is 50000, 16, 20 , I want to make it 50000 x 16, 20\n",
    "Y = np.reshape(Y,(dimension*16,20))\n",
    "\n",
    "Y_real = np.real(Y)\n",
    "Y_imag = np.imag(Y)\n",
    "# make the shape from 800000 x 20 to 800000 x 40\n",
    "Y = np.concatenate((Y_real,Y_imag),axis=1)\n",
    "print(f\"the shape of Y = {Y.shape}\")\n",
    "\n",
    "r_q_all = loadmat(r_q_all_location)\n",
    "r_q_all = r_q_all['r_q_all']\n",
    "\n",
    "r_q_all = np.transpose(r_q_all,(1,0))\n",
    "r_q_all = np.reshape(r_q_all,dimension* 16)\n",
    "print(f\"the shape of r_q_all = {r_q_all.shape}\")"
   ]
  },
  {
   "cell_type": "markdown",
   "metadata": {},
   "source": [
    "### The model "
   ]
  },
  {
   "cell_type": "code",
   "execution_count": null,
   "metadata": {},
   "outputs": [
    {
     "name": "stdout",
     "output_type": "stream",
     "text": [
      "----------------------------------------------------------------\n",
      "        Layer (type)               Output Shape         Param #\n",
      "================================================================\n",
      "            Linear-1                  [-1, 256]          10,496\n",
      "              ReLU-2                  [-1, 256]               0\n",
      "            Linear-3                  [-1, 256]          65,792\n",
      "              ReLU-4                  [-1, 256]               0\n",
      "            Linear-5                  [-1, 128]          32,896\n",
      "              ReLU-6                  [-1, 128]               0\n",
      "            Linear-7                   [-1, 16]           2,064\n",
      "              ReLU-8                   [-1, 16]               0\n",
      "            Linear-9                    [-1, 1]              17\n",
      "================================================================\n",
      "Total params: 111,265\n",
      "Trainable params: 111,265\n",
      "Non-trainable params: 0\n",
      "----------------------------------------------------------------\n",
      "Input size (MB): 0.00\n",
      "Forward/backward pass size (MB): 0.01\n",
      "Params size (MB): 0.42\n",
      "Estimated Total Size (MB): 0.43\n",
      "----------------------------------------------------------------\n"
     ]
    }
   ],
   "source": [
    "class Complex_Model(nn.Module):\n",
    "    '''Input is expected to be of shape [batch_size,n_inputs], where n_inputs = n_pilots*2'''\n",
    "    def __init__(self, n_inputs = 40):\n",
    "        \n",
    "        super(Complex_Model, self).__init__()\n",
    "        self.n_inputs = n_inputs\n",
    "        '''Common branch after concatenation'''\n",
    "        self.common_branch = nn.Sequential(\n",
    "            nn.Linear(self.n_inputs, 256),\n",
    "            #nn.BatchNorm1d(256),\n",
    "            nn.ReLU(),\n",
    "            nn.Linear(256, 256),\n",
    "            #nn.BatchNorm1d(128),\n",
    "            nn.ReLU(),\n",
    "            nn.Linear(256, 128),\n",
    "            #nn.BatchNorm1d(64),\n",
    "            nn.ReLU(),\n",
    "            nn.Linear(128, 16),\n",
    "            # nn.BatchNorm1d(16),\n",
    "            nn.ReLU(),\n",
    "            nn.Linear(16, 1),\n",
    "            nn.Sigmoid()\n",
    "        )\n",
    "\n",
    "    def forward(self, x):\n",
    "        x = self.common_branch(x)\n",
    "        return x\n",
    "'''Small Test for the model'''\n",
    "model = Complex_Model()\n",
    "# Simulate a single tensor input with shape [batch_size, 8, 8, 2]\n",
    "summary(model, input_size=(40,))"
   ]
  },
  {
   "cell_type": "markdown",
   "metadata": {},
   "source": [
    "# Training "
   ]
  },
  {
   "cell_type": "code",
   "execution_count": null,
   "metadata": {},
   "outputs": [],
   "source": [
    "# # Chnage Y to tensor\n",
    "# Y = torch.tensor(Y,dtype=torch.float32)\n",
    "# R_Q_ALL = torch.tensor(r_q_all,dtype=torch.float32)\n",
    "# # Split the data into training and testing\n",
    "# Y_train, Y_test,Pos_train,Pos_test = train_test_split(Y,R_Q_ALL, test_size=0.2, random_state=0)\n",
    "\n",
    "# train_dataset = TensorDataset(Y_train, Pos_train)\n",
    "# batch_size = 64\n",
    "# train_loader = DataLoader(train_dataset,batch_size, shuffle=True)\n",
    "\n",
    "# for batch in train_loader:\n",
    "#     inputs, targets = batch  # Y, R\n",
    "#     print(f\"The input size: {inputs.size()}\")  # Should be [batch_size, 40]\n",
    "#     print(f\"The target size: {targets.size()}\")  # Should be [batch_size, 1]\n",
    "#     break"
   ]
  },
  {
   "cell_type": "code",
   "execution_count": null,
   "metadata": {},
   "outputs": [
    {
     "name": "stdout",
     "output_type": "stream",
     "text": [
      "The input size: torch.Size([32, 40])\n",
      "The target size: torch.Size([32])\n"
     ]
    }
   ],
   "source": [
    "Y = torch.tensor(Y, dtype=torch.float32)\n",
    "R_Q_ALL = torch.tensor(r_q_all, dtype=torch.float32)\n",
    "Y_train, Y_test, R_train, R_test = train_test_split(Y, R_Q_ALL, test_size=0.2, random_state=0)\n",
    "\n",
    "# Normalize inputs (Y)\n",
    "Y_mean, Y_std = Y_train.mean(dim=0), Y_train.std(dim=0)\n",
    "Y_train = (Y_train - Y_mean) / Y_std\n",
    "Y_test = (Y_test - Y_mean) / Y_std\n",
    "\n",
    "# Normalize outputs (R)\n",
    "R_mean, R_std = R_train.mean(), R_train.std()\n",
    "R_train = (R_train - R_mean) / R_std\n",
    "# R_test = (R_test - R_mean) / R_std\n",
    "print(f\"mean of test:\")\n",
    "# Prepare DataLoader\n",
    "train_dataset = TensorDataset(Y_train, R_train)\n",
    "batch_size = 32\n",
    "train_loader = DataLoader(train_dataset, batch_size, shuffle=True)\n",
    "\n",
    "# Checking the input and target sizes in DataLoader\n",
    "for batch in train_loader:\n",
    "    inputs, targets = batch  # Y, R\n",
    "    print(f\"The input size: {inputs.size()}\")  # Should be [batch_size, 40]\n",
    "    print(f\"The target size: {targets.size()}\")  # Should be [batch_size, 1]\n",
    "    break"
   ]
  },
  {
   "cell_type": "code",
   "execution_count": 15,
   "metadata": {},
   "outputs": [
    {
     "name": "stdout",
     "output_type": "stream",
     "text": [
      "mean of test:15.833559036254883, mean of train = 15.873400688171387\n",
      "std of test:6.673295021057129, std of train = 6.676202297210693\n",
      "tensor([-1.3841, -1.3841, -1.3841, -1.3841, -1.3841, -1.3841, -1.3841, -1.3841,\n",
      "        -1.3841, -1.3841, -1.3841, -1.3841, -1.3841, -1.3841, -1.3841, -1.3841,\n",
      "        -1.3841, -1.3841, -1.3841, -1.3841,  0.7282,  0.7282,  0.7282,  0.7282,\n",
      "         0.7282,  0.7282,  0.7282,  0.7282,  0.7282,  0.7282,  0.7282,  0.7282,\n",
      "         0.7282,  0.7282,  0.7282,  0.7282,  0.7282,  0.7282,  0.7282,  0.7282])\n",
      "######\n",
      "tensor([ 0.1455,  0.1455,  0.1455,  0.1455,  0.1455,  0.1455,  0.1455,  0.1455,\n",
      "         0.1455,  0.1455,  0.1455,  0.1455,  0.1455,  0.1455,  0.1455,  0.1455,\n",
      "         0.1455,  0.1455,  0.1455,  0.1455, -1.4164, -1.4164, -1.4164, -1.4164,\n",
      "        -1.4164, -1.4164, -1.4164, -1.4164, -1.4164, -1.4164, -1.4164, -1.4164,\n",
      "        -1.4164, -1.4164, -1.4164, -1.4164, -1.4164, -1.4164, -1.4164, -1.4164])\n",
      "Test Output: 16.050949096679688\n",
      "Test Target: 4.168258190155029\n"
     ]
    }
   ],
   "source": [
    "print(f\"mean of test:{R_test.mean()}, mean of train = {R_mean}\")\n",
    "print(f\"std of test:{R_test.std()}, std of train = {R_std}\")\n",
    "\n",
    "criterion = nn.MSELoss()\n",
    "with torch.no_grad():\n",
    "    model.eval()\n",
    "    print(Y_test[2]- Y_test[1])\n",
    "    print(\"######\")\n",
    "    print(Y_test[1])\n",
    "    test_outputs = model(Y_test[2].unsqueeze(0))\n",
    "    test_outputs = test_outputs * R_std + R_mean\n",
    "    print(f\"Test Output: {test_outputs.item()}\")\n",
    "    print(f\"Test Target: {R_test[2].item()}\")\n",
    "    # test_loss = criterion(test_outputs, R_test.view(-1, 1))\n",
    "    # print(f\"Test Loss: {test_loss.item()}\")"
   ]
  },
  {
   "cell_type": "markdown",
   "metadata": {},
   "source": [
    "### Loss Function and optimizer "
   ]
  },
  {
   "cell_type": "code",
   "execution_count": 5,
   "metadata": {},
   "outputs": [],
   "source": [
    "model = Complex_Model(n_inputs=40)\n",
    "# Define the loss function\n",
    "criterion = nn.MSELoss()\n",
    "# Define the optimizer\n",
    "optimizer = optim.Adam(model.parameters(), lr=0.001)\n",
    "\n",
    "scheduler = ReduceLROnPlateau(optimizer, mode='min', factor=0.5, patience=5)"
   ]
  },
  {
   "cell_type": "code",
   "execution_count": 6,
   "metadata": {},
   "outputs": [
    {
     "name": "stderr",
     "output_type": "stream",
     "text": [
      "\u001b[34m\u001b[1mwandb\u001b[0m: Using wandb-core as the SDK backend.  Please refer to https://wandb.me/wandb-core for more information.\n",
      "\u001b[34m\u001b[1mwandb\u001b[0m: Currently logged in as: \u001b[33mmnl03\u001b[0m (\u001b[33mmnl03-american-university-of-beirut\u001b[0m). Use \u001b[1m`wandb login --relogin`\u001b[0m to force relogin\n"
     ]
    },
    {
     "data": {
      "text/html": [
       "Tracking run with wandb version 0.18.7"
      ],
      "text/plain": [
       "<IPython.core.display.HTML object>"
      ]
     },
     "metadata": {},
     "output_type": "display_data"
    },
    {
     "data": {
      "text/html": [
       "Run data is saved locally in <code>/home/mnl/Desktop/University/Fall 2024-2025/VIPP/CODES/Python-MATLAB/MiMo/Python/wandb/run-20241202_191343-4ixkfemq</code>"
      ],
      "text/plain": [
       "<IPython.core.display.HTML object>"
      ]
     },
     "metadata": {},
     "output_type": "display_data"
    },
    {
     "data": {
      "text/html": [
       "Syncing run <strong><a href='https://wandb.ai/mnl03-american-university-of-beirut/getting%20the%20radius/runs/4ixkfemq' target=\"_blank\">Normalizing the inputs and outputs + lower learning rate = 0.001 + higher SNR</a></strong> to <a href='https://wandb.ai/mnl03-american-university-of-beirut/getting%20the%20radius' target=\"_blank\">Weights & Biases</a> (<a href='https://wandb.me/developer-guide' target=\"_blank\">docs</a>)<br/>"
      ],
      "text/plain": [
       "<IPython.core.display.HTML object>"
      ]
     },
     "metadata": {},
     "output_type": "display_data"
    },
    {
     "data": {
      "text/html": [
       " View project at <a href='https://wandb.ai/mnl03-american-university-of-beirut/getting%20the%20radius' target=\"_blank\">https://wandb.ai/mnl03-american-university-of-beirut/getting%20the%20radius</a>"
      ],
      "text/plain": [
       "<IPython.core.display.HTML object>"
      ]
     },
     "metadata": {},
     "output_type": "display_data"
    },
    {
     "data": {
      "text/html": [
       " View run at <a href='https://wandb.ai/mnl03-american-university-of-beirut/getting%20the%20radius/runs/4ixkfemq' target=\"_blank\">https://wandb.ai/mnl03-american-university-of-beirut/getting%20the%20radius/runs/4ixkfemq</a>"
      ],
      "text/plain": [
       "<IPython.core.display.HTML object>"
      ]
     },
     "metadata": {},
     "output_type": "display_data"
    }
   ],
   "source": [
    "wandb.finish()\n",
    "num_epochs = 100\n",
    "wandb.init(project=\"getting the radius\",name = \"Normalizing the inputs and outputs + lower learning rate = 0.001 + higher SNR\")\n",
    "wandb.config = {\n",
    "    \"learning_rate\": optimizer.param_groups[0]['lr'],\n",
    "    \"epochs\": num_epochs,\n",
    "    \"batch_size\": train_loader.batch_size,\n",
    "}"
   ]
  },
  {
   "cell_type": "markdown",
   "metadata": {},
   "source": [
    "### Training Loop "
   ]
  },
  {
   "cell_type": "code",
   "execution_count": 7,
   "metadata": {},
   "outputs": [
    {
     "name": "stdout",
     "output_type": "stream",
     "text": [
      "Epoch 1/100, Loss: 1.000434618256986\n",
      "Test Loss: 44.53860855102539\n",
      "Learning rate: 0.001\n",
      "Epoch 2/100, Loss: 1.0001064978018404\n",
      "Epoch 3/100, Loss: 1.0000613499060274\n",
      "Epoch 4/100, Loss: 1.0000741175115109\n",
      "Epoch 5/100, Loss: 1.0000485641136765\n",
      "Epoch 6/100, Loss: 1.000076632514596\n",
      "Epoch 7/100, Loss: 1.0001263076364995\n",
      "Epoch 8/100, Loss: 0.9999939698651433\n",
      "Epoch 9/100, Loss: 1.0000117888301612\n",
      "Epoch 10/100, Loss: 1.0000631179064512\n",
      "Epoch 11/100, Loss: 1.0001053085774183\n",
      "Test Loss: 44.53230285644531\n",
      "Learning rate: 0.001\n",
      "Epoch 12/100, Loss: 1.0001066864803434\n",
      "Epoch 13/100, Loss: 1.0000598135814072\n",
      "Epoch 14/100, Loss: 1.0000756141841411\n",
      "Epoch 15/100, Loss: 1.0000615780502558\n",
      "Epoch 16/100, Loss: 1.0000830188840628\n",
      "Epoch 17/100, Loss: 1.00012834122777\n",
      "Epoch 18/100, Loss: 1.000045526728034\n",
      "Epoch 19/100, Loss: 1.0000840774476527\n",
      "Epoch 20/100, Loss: 1.000118600308895\n",
      "Epoch 21/100, Loss: 1.000051624275744\n",
      "Test Loss: 44.537376403808594\n",
      "Learning rate: 0.001\n",
      "Epoch 22/100, Loss: 1.0000806881859898\n",
      "Epoch 23/100, Loss: 1.0001012428477407\n",
      "Epoch 24/100, Loss: 1.0000607526451348\n",
      "Epoch 25/100, Loss: 1.0000628568679095\n",
      "Epoch 26/100, Loss: 1.0001020636036992\n",
      "Epoch 27/100, Loss: 1.0000923352241515\n",
      "Epoch 28/100, Loss: 1.0001229098141193\n",
      "Epoch 29/100, Loss: 1.0000996311903\n",
      "Epoch 30/100, Loss: 1.0000753247439862\n",
      "Epoch 31/100, Loss: 1.0000526029616594\n",
      "Test Loss: 44.53193664550781\n",
      "Learning rate: 0.001\n",
      "Epoch 32/100, Loss: 1.0001160245984793\n",
      "Epoch 33/100, Loss: 1.0001165123805404\n",
      "Epoch 34/100, Loss: 1.0000921052768827\n",
      "Epoch 35/100, Loss: 1.000080680884421\n",
      "Epoch 36/100, Loss: 1.0000487849712372\n",
      "Epoch 37/100, Loss: 1.0000791976079344\n",
      "Epoch 38/100, Loss: 1.0000704276412726\n"
     ]
    },
    {
     "ename": "KeyboardInterrupt",
     "evalue": "",
     "output_type": "error",
     "traceback": [
      "\u001b[0;31m---------------------------------------------------------------------------\u001b[0m",
      "\u001b[0;31mKeyboardInterrupt\u001b[0m                         Traceback (most recent call last)",
      "Cell \u001b[0;32mIn[7], line 14\u001b[0m\n\u001b[1;32m     12\u001b[0m     \u001b[38;5;66;03m# backward pass\u001b[39;00m\n\u001b[1;32m     13\u001b[0m     loss\u001b[38;5;241m.\u001b[39mbackward()\n\u001b[0;32m---> 14\u001b[0m     \u001b[43moptimizer\u001b[49m\u001b[38;5;241;43m.\u001b[39;49m\u001b[43mstep\u001b[49m\u001b[43m(\u001b[49m\u001b[43m)\u001b[49m\n\u001b[1;32m     15\u001b[0m     loss_epoch \u001b[38;5;241m+\u001b[39m\u001b[38;5;241m=\u001b[39m loss\u001b[38;5;241m.\u001b[39mitem()\n\u001b[1;32m     16\u001b[0m avg_loss \u001b[38;5;241m=\u001b[39m loss_epoch \u001b[38;5;241m/\u001b[39m \u001b[38;5;28mlen\u001b[39m(train_loader)\n",
      "File \u001b[0;32m~/.local/lib/python3.10/site-packages/torch/optim/optimizer.py:487\u001b[0m, in \u001b[0;36mOptimizer.profile_hook_step.<locals>.wrapper\u001b[0;34m(*args, **kwargs)\u001b[0m\n\u001b[1;32m    482\u001b[0m         \u001b[38;5;28;01melse\u001b[39;00m:\n\u001b[1;32m    483\u001b[0m             \u001b[38;5;28;01mraise\u001b[39;00m \u001b[38;5;167;01mRuntimeError\u001b[39;00m(\n\u001b[1;32m    484\u001b[0m                 \u001b[38;5;124mf\u001b[39m\u001b[38;5;124m\"\u001b[39m\u001b[38;5;132;01m{\u001b[39;00mfunc\u001b[38;5;132;01m}\u001b[39;00m\u001b[38;5;124m must return None or a tuple of (new_args, new_kwargs), but got \u001b[39m\u001b[38;5;132;01m{\u001b[39;00mresult\u001b[38;5;132;01m}\u001b[39;00m\u001b[38;5;124m.\u001b[39m\u001b[38;5;124m\"\u001b[39m\n\u001b[1;32m    485\u001b[0m             )\n\u001b[0;32m--> 487\u001b[0m out \u001b[38;5;241m=\u001b[39m \u001b[43mfunc\u001b[49m\u001b[43m(\u001b[49m\u001b[38;5;241;43m*\u001b[39;49m\u001b[43margs\u001b[49m\u001b[43m,\u001b[49m\u001b[43m \u001b[49m\u001b[38;5;241;43m*\u001b[39;49m\u001b[38;5;241;43m*\u001b[39;49m\u001b[43mkwargs\u001b[49m\u001b[43m)\u001b[49m\n\u001b[1;32m    488\u001b[0m \u001b[38;5;28mself\u001b[39m\u001b[38;5;241m.\u001b[39m_optimizer_step_code()\n\u001b[1;32m    490\u001b[0m \u001b[38;5;66;03m# call optimizer step post hooks\u001b[39;00m\n",
      "File \u001b[0;32m~/.local/lib/python3.10/site-packages/torch/optim/optimizer.py:91\u001b[0m, in \u001b[0;36m_use_grad_for_differentiable.<locals>._use_grad\u001b[0;34m(self, *args, **kwargs)\u001b[0m\n\u001b[1;32m     89\u001b[0m     torch\u001b[38;5;241m.\u001b[39mset_grad_enabled(\u001b[38;5;28mself\u001b[39m\u001b[38;5;241m.\u001b[39mdefaults[\u001b[38;5;124m\"\u001b[39m\u001b[38;5;124mdifferentiable\u001b[39m\u001b[38;5;124m\"\u001b[39m])\n\u001b[1;32m     90\u001b[0m     torch\u001b[38;5;241m.\u001b[39m_dynamo\u001b[38;5;241m.\u001b[39mgraph_break()\n\u001b[0;32m---> 91\u001b[0m     ret \u001b[38;5;241m=\u001b[39m \u001b[43mfunc\u001b[49m\u001b[43m(\u001b[49m\u001b[38;5;28;43mself\u001b[39;49m\u001b[43m,\u001b[49m\u001b[43m \u001b[49m\u001b[38;5;241;43m*\u001b[39;49m\u001b[43margs\u001b[49m\u001b[43m,\u001b[49m\u001b[43m \u001b[49m\u001b[38;5;241;43m*\u001b[39;49m\u001b[38;5;241;43m*\u001b[39;49m\u001b[43mkwargs\u001b[49m\u001b[43m)\u001b[49m\n\u001b[1;32m     92\u001b[0m \u001b[38;5;28;01mfinally\u001b[39;00m:\n\u001b[1;32m     93\u001b[0m     torch\u001b[38;5;241m.\u001b[39m_dynamo\u001b[38;5;241m.\u001b[39mgraph_break()\n",
      "File \u001b[0;32m~/.local/lib/python3.10/site-packages/torch/optim/adam.py:223\u001b[0m, in \u001b[0;36mAdam.step\u001b[0;34m(self, closure)\u001b[0m\n\u001b[1;32m    211\u001b[0m     beta1, beta2 \u001b[38;5;241m=\u001b[39m group[\u001b[38;5;124m\"\u001b[39m\u001b[38;5;124mbetas\u001b[39m\u001b[38;5;124m\"\u001b[39m]\n\u001b[1;32m    213\u001b[0m     has_complex \u001b[38;5;241m=\u001b[39m \u001b[38;5;28mself\u001b[39m\u001b[38;5;241m.\u001b[39m_init_group(\n\u001b[1;32m    214\u001b[0m         group,\n\u001b[1;32m    215\u001b[0m         params_with_grad,\n\u001b[0;32m   (...)\u001b[0m\n\u001b[1;32m    220\u001b[0m         state_steps,\n\u001b[1;32m    221\u001b[0m     )\n\u001b[0;32m--> 223\u001b[0m     \u001b[43madam\u001b[49m\u001b[43m(\u001b[49m\n\u001b[1;32m    224\u001b[0m \u001b[43m        \u001b[49m\u001b[43mparams_with_grad\u001b[49m\u001b[43m,\u001b[49m\n\u001b[1;32m    225\u001b[0m \u001b[43m        \u001b[49m\u001b[43mgrads\u001b[49m\u001b[43m,\u001b[49m\n\u001b[1;32m    226\u001b[0m \u001b[43m        \u001b[49m\u001b[43mexp_avgs\u001b[49m\u001b[43m,\u001b[49m\n\u001b[1;32m    227\u001b[0m \u001b[43m        \u001b[49m\u001b[43mexp_avg_sqs\u001b[49m\u001b[43m,\u001b[49m\n\u001b[1;32m    228\u001b[0m \u001b[43m        \u001b[49m\u001b[43mmax_exp_avg_sqs\u001b[49m\u001b[43m,\u001b[49m\n\u001b[1;32m    229\u001b[0m \u001b[43m        \u001b[49m\u001b[43mstate_steps\u001b[49m\u001b[43m,\u001b[49m\n\u001b[1;32m    230\u001b[0m \u001b[43m        \u001b[49m\u001b[43mamsgrad\u001b[49m\u001b[38;5;241;43m=\u001b[39;49m\u001b[43mgroup\u001b[49m\u001b[43m[\u001b[49m\u001b[38;5;124;43m\"\u001b[39;49m\u001b[38;5;124;43mamsgrad\u001b[39;49m\u001b[38;5;124;43m\"\u001b[39;49m\u001b[43m]\u001b[49m\u001b[43m,\u001b[49m\n\u001b[1;32m    231\u001b[0m \u001b[43m        \u001b[49m\u001b[43mhas_complex\u001b[49m\u001b[38;5;241;43m=\u001b[39;49m\u001b[43mhas_complex\u001b[49m\u001b[43m,\u001b[49m\n\u001b[1;32m    232\u001b[0m \u001b[43m        \u001b[49m\u001b[43mbeta1\u001b[49m\u001b[38;5;241;43m=\u001b[39;49m\u001b[43mbeta1\u001b[49m\u001b[43m,\u001b[49m\n\u001b[1;32m    233\u001b[0m \u001b[43m        \u001b[49m\u001b[43mbeta2\u001b[49m\u001b[38;5;241;43m=\u001b[39;49m\u001b[43mbeta2\u001b[49m\u001b[43m,\u001b[49m\n\u001b[1;32m    234\u001b[0m \u001b[43m        \u001b[49m\u001b[43mlr\u001b[49m\u001b[38;5;241;43m=\u001b[39;49m\u001b[43mgroup\u001b[49m\u001b[43m[\u001b[49m\u001b[38;5;124;43m\"\u001b[39;49m\u001b[38;5;124;43mlr\u001b[39;49m\u001b[38;5;124;43m\"\u001b[39;49m\u001b[43m]\u001b[49m\u001b[43m,\u001b[49m\n\u001b[1;32m    235\u001b[0m \u001b[43m        \u001b[49m\u001b[43mweight_decay\u001b[49m\u001b[38;5;241;43m=\u001b[39;49m\u001b[43mgroup\u001b[49m\u001b[43m[\u001b[49m\u001b[38;5;124;43m\"\u001b[39;49m\u001b[38;5;124;43mweight_decay\u001b[39;49m\u001b[38;5;124;43m\"\u001b[39;49m\u001b[43m]\u001b[49m\u001b[43m,\u001b[49m\n\u001b[1;32m    236\u001b[0m \u001b[43m        \u001b[49m\u001b[43meps\u001b[49m\u001b[38;5;241;43m=\u001b[39;49m\u001b[43mgroup\u001b[49m\u001b[43m[\u001b[49m\u001b[38;5;124;43m\"\u001b[39;49m\u001b[38;5;124;43meps\u001b[39;49m\u001b[38;5;124;43m\"\u001b[39;49m\u001b[43m]\u001b[49m\u001b[43m,\u001b[49m\n\u001b[1;32m    237\u001b[0m \u001b[43m        \u001b[49m\u001b[43mmaximize\u001b[49m\u001b[38;5;241;43m=\u001b[39;49m\u001b[43mgroup\u001b[49m\u001b[43m[\u001b[49m\u001b[38;5;124;43m\"\u001b[39;49m\u001b[38;5;124;43mmaximize\u001b[39;49m\u001b[38;5;124;43m\"\u001b[39;49m\u001b[43m]\u001b[49m\u001b[43m,\u001b[49m\n\u001b[1;32m    238\u001b[0m \u001b[43m        \u001b[49m\u001b[43mforeach\u001b[49m\u001b[38;5;241;43m=\u001b[39;49m\u001b[43mgroup\u001b[49m\u001b[43m[\u001b[49m\u001b[38;5;124;43m\"\u001b[39;49m\u001b[38;5;124;43mforeach\u001b[39;49m\u001b[38;5;124;43m\"\u001b[39;49m\u001b[43m]\u001b[49m\u001b[43m,\u001b[49m\n\u001b[1;32m    239\u001b[0m \u001b[43m        \u001b[49m\u001b[43mcapturable\u001b[49m\u001b[38;5;241;43m=\u001b[39;49m\u001b[43mgroup\u001b[49m\u001b[43m[\u001b[49m\u001b[38;5;124;43m\"\u001b[39;49m\u001b[38;5;124;43mcapturable\u001b[39;49m\u001b[38;5;124;43m\"\u001b[39;49m\u001b[43m]\u001b[49m\u001b[43m,\u001b[49m\n\u001b[1;32m    240\u001b[0m \u001b[43m        \u001b[49m\u001b[43mdifferentiable\u001b[49m\u001b[38;5;241;43m=\u001b[39;49m\u001b[43mgroup\u001b[49m\u001b[43m[\u001b[49m\u001b[38;5;124;43m\"\u001b[39;49m\u001b[38;5;124;43mdifferentiable\u001b[39;49m\u001b[38;5;124;43m\"\u001b[39;49m\u001b[43m]\u001b[49m\u001b[43m,\u001b[49m\n\u001b[1;32m    241\u001b[0m \u001b[43m        \u001b[49m\u001b[43mfused\u001b[49m\u001b[38;5;241;43m=\u001b[39;49m\u001b[43mgroup\u001b[49m\u001b[43m[\u001b[49m\u001b[38;5;124;43m\"\u001b[39;49m\u001b[38;5;124;43mfused\u001b[39;49m\u001b[38;5;124;43m\"\u001b[39;49m\u001b[43m]\u001b[49m\u001b[43m,\u001b[49m\n\u001b[1;32m    242\u001b[0m \u001b[43m        \u001b[49m\u001b[43mgrad_scale\u001b[49m\u001b[38;5;241;43m=\u001b[39;49m\u001b[38;5;28;43mgetattr\u001b[39;49m\u001b[43m(\u001b[49m\u001b[38;5;28;43mself\u001b[39;49m\u001b[43m,\u001b[49m\u001b[43m \u001b[49m\u001b[38;5;124;43m\"\u001b[39;49m\u001b[38;5;124;43mgrad_scale\u001b[39;49m\u001b[38;5;124;43m\"\u001b[39;49m\u001b[43m,\u001b[49m\u001b[43m \u001b[49m\u001b[38;5;28;43;01mNone\u001b[39;49;00m\u001b[43m)\u001b[49m\u001b[43m,\u001b[49m\n\u001b[1;32m    243\u001b[0m \u001b[43m        \u001b[49m\u001b[43mfound_inf\u001b[49m\u001b[38;5;241;43m=\u001b[39;49m\u001b[38;5;28;43mgetattr\u001b[39;49m\u001b[43m(\u001b[49m\u001b[38;5;28;43mself\u001b[39;49m\u001b[43m,\u001b[49m\u001b[43m \u001b[49m\u001b[38;5;124;43m\"\u001b[39;49m\u001b[38;5;124;43mfound_inf\u001b[39;49m\u001b[38;5;124;43m\"\u001b[39;49m\u001b[43m,\u001b[49m\u001b[43m \u001b[49m\u001b[38;5;28;43;01mNone\u001b[39;49;00m\u001b[43m)\u001b[49m\u001b[43m,\u001b[49m\n\u001b[1;32m    244\u001b[0m \u001b[43m    \u001b[49m\u001b[43m)\u001b[49m\n\u001b[1;32m    246\u001b[0m \u001b[38;5;28;01mreturn\u001b[39;00m loss\n",
      "File \u001b[0;32m~/.local/lib/python3.10/site-packages/torch/optim/optimizer.py:154\u001b[0m, in \u001b[0;36m_disable_dynamo_if_unsupported.<locals>.wrapper.<locals>.maybe_fallback\u001b[0;34m(*args, **kwargs)\u001b[0m\n\u001b[1;32m    152\u001b[0m     \u001b[38;5;28;01mreturn\u001b[39;00m disabled_func(\u001b[38;5;241m*\u001b[39margs, \u001b[38;5;241m*\u001b[39m\u001b[38;5;241m*\u001b[39mkwargs)\n\u001b[1;32m    153\u001b[0m \u001b[38;5;28;01melse\u001b[39;00m:\n\u001b[0;32m--> 154\u001b[0m     \u001b[38;5;28;01mreturn\u001b[39;00m \u001b[43mfunc\u001b[49m\u001b[43m(\u001b[49m\u001b[38;5;241;43m*\u001b[39;49m\u001b[43margs\u001b[49m\u001b[43m,\u001b[49m\u001b[43m \u001b[49m\u001b[38;5;241;43m*\u001b[39;49m\u001b[38;5;241;43m*\u001b[39;49m\u001b[43mkwargs\u001b[49m\u001b[43m)\u001b[49m\n",
      "File \u001b[0;32m~/.local/lib/python3.10/site-packages/torch/optim/adam.py:784\u001b[0m, in \u001b[0;36madam\u001b[0;34m(params, grads, exp_avgs, exp_avg_sqs, max_exp_avg_sqs, state_steps, foreach, capturable, differentiable, fused, grad_scale, found_inf, has_complex, amsgrad, beta1, beta2, lr, weight_decay, eps, maximize)\u001b[0m\n\u001b[1;32m    781\u001b[0m \u001b[38;5;28;01melse\u001b[39;00m:\n\u001b[1;32m    782\u001b[0m     func \u001b[38;5;241m=\u001b[39m _single_tensor_adam\n\u001b[0;32m--> 784\u001b[0m \u001b[43mfunc\u001b[49m\u001b[43m(\u001b[49m\n\u001b[1;32m    785\u001b[0m \u001b[43m    \u001b[49m\u001b[43mparams\u001b[49m\u001b[43m,\u001b[49m\n\u001b[1;32m    786\u001b[0m \u001b[43m    \u001b[49m\u001b[43mgrads\u001b[49m\u001b[43m,\u001b[49m\n\u001b[1;32m    787\u001b[0m \u001b[43m    \u001b[49m\u001b[43mexp_avgs\u001b[49m\u001b[43m,\u001b[49m\n\u001b[1;32m    788\u001b[0m \u001b[43m    \u001b[49m\u001b[43mexp_avg_sqs\u001b[49m\u001b[43m,\u001b[49m\n\u001b[1;32m    789\u001b[0m \u001b[43m    \u001b[49m\u001b[43mmax_exp_avg_sqs\u001b[49m\u001b[43m,\u001b[49m\n\u001b[1;32m    790\u001b[0m \u001b[43m    \u001b[49m\u001b[43mstate_steps\u001b[49m\u001b[43m,\u001b[49m\n\u001b[1;32m    791\u001b[0m \u001b[43m    \u001b[49m\u001b[43mamsgrad\u001b[49m\u001b[38;5;241;43m=\u001b[39;49m\u001b[43mamsgrad\u001b[49m\u001b[43m,\u001b[49m\n\u001b[1;32m    792\u001b[0m \u001b[43m    \u001b[49m\u001b[43mhas_complex\u001b[49m\u001b[38;5;241;43m=\u001b[39;49m\u001b[43mhas_complex\u001b[49m\u001b[43m,\u001b[49m\n\u001b[1;32m    793\u001b[0m \u001b[43m    \u001b[49m\u001b[43mbeta1\u001b[49m\u001b[38;5;241;43m=\u001b[39;49m\u001b[43mbeta1\u001b[49m\u001b[43m,\u001b[49m\n\u001b[1;32m    794\u001b[0m \u001b[43m    \u001b[49m\u001b[43mbeta2\u001b[49m\u001b[38;5;241;43m=\u001b[39;49m\u001b[43mbeta2\u001b[49m\u001b[43m,\u001b[49m\n\u001b[1;32m    795\u001b[0m \u001b[43m    \u001b[49m\u001b[43mlr\u001b[49m\u001b[38;5;241;43m=\u001b[39;49m\u001b[43mlr\u001b[49m\u001b[43m,\u001b[49m\n\u001b[1;32m    796\u001b[0m \u001b[43m    \u001b[49m\u001b[43mweight_decay\u001b[49m\u001b[38;5;241;43m=\u001b[39;49m\u001b[43mweight_decay\u001b[49m\u001b[43m,\u001b[49m\n\u001b[1;32m    797\u001b[0m \u001b[43m    \u001b[49m\u001b[43meps\u001b[49m\u001b[38;5;241;43m=\u001b[39;49m\u001b[43meps\u001b[49m\u001b[43m,\u001b[49m\n\u001b[1;32m    798\u001b[0m \u001b[43m    \u001b[49m\u001b[43mmaximize\u001b[49m\u001b[38;5;241;43m=\u001b[39;49m\u001b[43mmaximize\u001b[49m\u001b[43m,\u001b[49m\n\u001b[1;32m    799\u001b[0m \u001b[43m    \u001b[49m\u001b[43mcapturable\u001b[49m\u001b[38;5;241;43m=\u001b[39;49m\u001b[43mcapturable\u001b[49m\u001b[43m,\u001b[49m\n\u001b[1;32m    800\u001b[0m \u001b[43m    \u001b[49m\u001b[43mdifferentiable\u001b[49m\u001b[38;5;241;43m=\u001b[39;49m\u001b[43mdifferentiable\u001b[49m\u001b[43m,\u001b[49m\n\u001b[1;32m    801\u001b[0m \u001b[43m    \u001b[49m\u001b[43mgrad_scale\u001b[49m\u001b[38;5;241;43m=\u001b[39;49m\u001b[43mgrad_scale\u001b[49m\u001b[43m,\u001b[49m\n\u001b[1;32m    802\u001b[0m \u001b[43m    \u001b[49m\u001b[43mfound_inf\u001b[49m\u001b[38;5;241;43m=\u001b[39;49m\u001b[43mfound_inf\u001b[49m\u001b[43m,\u001b[49m\n\u001b[1;32m    803\u001b[0m \u001b[43m\u001b[49m\u001b[43m)\u001b[49m\n",
      "File \u001b[0;32m~/.local/lib/python3.10/site-packages/torch/optim/adam.py:378\u001b[0m, in \u001b[0;36m_single_tensor_adam\u001b[0;34m(params, grads, exp_avgs, exp_avg_sqs, max_exp_avg_sqs, state_steps, grad_scale, found_inf, amsgrad, has_complex, beta1, beta2, lr, weight_decay, eps, maximize, capturable, differentiable)\u001b[0m\n\u001b[1;32m    375\u001b[0m     param \u001b[38;5;241m=\u001b[39m torch\u001b[38;5;241m.\u001b[39mview_as_real(param)\n\u001b[1;32m    377\u001b[0m \u001b[38;5;66;03m# Decay the first and second moment running average coefficient\u001b[39;00m\n\u001b[0;32m--> 378\u001b[0m \u001b[43mexp_avg\u001b[49m\u001b[38;5;241;43m.\u001b[39;49m\u001b[43mlerp_\u001b[49m\u001b[43m(\u001b[49m\u001b[43mgrad\u001b[49m\u001b[43m,\u001b[49m\u001b[43m \u001b[49m\u001b[38;5;241;43m1\u001b[39;49m\u001b[43m \u001b[49m\u001b[38;5;241;43m-\u001b[39;49m\u001b[43m \u001b[49m\u001b[43mbeta1\u001b[49m\u001b[43m)\u001b[49m\n\u001b[1;32m    379\u001b[0m exp_avg_sq\u001b[38;5;241m.\u001b[39mmul_(beta2)\u001b[38;5;241m.\u001b[39maddcmul_(grad, grad\u001b[38;5;241m.\u001b[39mconj(), value\u001b[38;5;241m=\u001b[39m\u001b[38;5;241m1\u001b[39m \u001b[38;5;241m-\u001b[39m beta2)\n\u001b[1;32m    381\u001b[0m \u001b[38;5;28;01mif\u001b[39;00m capturable \u001b[38;5;129;01mor\u001b[39;00m differentiable:\n",
      "\u001b[0;31mKeyboardInterrupt\u001b[0m: "
     ]
    }
   ],
   "source": [
    "for epoch in range(num_epochs):\n",
    "    model.train()\n",
    "    loss_epoch = 0\n",
    "    for batch in train_loader:\n",
    "        inputs, target = batch\n",
    "        target = target.view(-1, 1)  # Reshape target to [batch_size, 1]\n",
    "        optimizer.zero_grad()\n",
    "        # forward pass\n",
    "        outputs = model(inputs)\n",
    "        # calculate the loss\n",
    "        loss = criterion(outputs, target)\n",
    "        # backward pass\n",
    "        loss.backward()\n",
    "        optimizer.step()\n",
    "        loss_epoch += loss.item()\n",
    "    avg_loss = loss_epoch / len(train_loader)\n",
    "    print(f\"Epoch {epoch+1}/{num_epochs}, Loss: {avg_loss}\")\n",
    "    wandb.log({\"epoch\": epoch+1, \"train_loss\": avg_loss})\n",
    "    if epoch % 10 == 0:\n",
    "        # test the model\n",
    "        model.eval()\n",
    "        with torch.no_grad():\n",
    "            test_outputs = model(Y_test)\n",
    "            # Denormalize the outputs\n",
    "            test_outputs = test_outputs * R_std + R_mean\n",
    "            test_loss = criterion(test_outputs, R_test.view(-1, 1))  # Reshape Pos_test to [batch_size, 1]\n",
    "            print(f\"Test Loss: {test_loss.item()}\")\n",
    "            scheduler.step(test_loss.item())\n",
    "            # print the learning  rate\n",
    "            print(f\"Learning rate: {optimizer.param_groups[0]['lr']}\")\n",
    "wandb.finish()"
   ]
  }
 ],
 "metadata": {
  "kernelspec": {
   "display_name": "Python 3",
   "language": "python",
   "name": "python3"
  },
  "language_info": {
   "codemirror_mode": {
    "name": "ipython",
    "version": 3
   },
   "file_extension": ".py",
   "mimetype": "text/x-python",
   "name": "python",
   "nbconvert_exporter": "python",
   "pygments_lexer": "ipython3",
   "version": "3.10.12"
  }
 },
 "nbformat": 4,
 "nbformat_minor": 2
}
